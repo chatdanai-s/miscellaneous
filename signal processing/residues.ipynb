{
 "cells": [
  {
   "cell_type": "markdown",
   "id": "1c4ca460-2c92-4256-adb1-459be33d3c5a",
   "metadata": {},
   "source": [
    "Calculation of Residues, Poles, and Coefficients of Z-transforms"
   ]
  },
  {
   "cell_type": "code",
   "execution_count": 1,
   "id": "06dde1c4-c7d8-469f-9f2e-5240226a0057",
   "metadata": {},
   "outputs": [],
   "source": [
    "from scipy.signal import residue\n",
    "# NOTE: The manual is wrong! It finds partial decomposition of X(z)/z"
   ]
  },
  {
   "cell_type": "code",
   "execution_count": 12,
   "id": "9b484389-7a37-466c-854f-045fd60ba5f7",
   "metadata": {},
   "outputs": [
    {
     "name": "stdout",
     "output_type": "stream",
     "text": [
      "Residues, Poles, and Coeff:\n",
      "[-13.33333333  12.5         10.83333333] [ 0. -1.  3.] []\n"
     ]
    }
   ],
   "source": [
    "# Example 1\n",
    "b = [10, 0, 40]\n",
    "a = [1, -2, -3, 0]\n",
    "r, p, k = residue(b, a)\n",
    "print('Residues, Poles, and Coeff:')\n",
    "print(r, p, k)"
   ]
  },
  {
   "cell_type": "code",
   "execution_count": 13,
   "id": "aacc3da5-1783-4743-bbb7-88d33466f00b",
   "metadata": {},
   "outputs": [
    {
     "name": "stdout",
     "output_type": "stream",
     "text": [
      "Residues, Poles, and Coeff:\n",
      "[ 1.5 -1.5  5. ] [0. 2. 2.] []\n"
     ]
    }
   ],
   "source": [
    "# Example 2\n",
    "b = [2, 6]\n",
    "a = [1, -4, 4, 0]\n",
    "r, p, k = residue(b, a)\n",
    "print('Residues, Poles, and Coeff:')\n",
    "print(r, p, k)"
   ]
  },
  {
   "cell_type": "code",
   "execution_count": 14,
   "id": "259240e1-f7ce-45b8-b4ee-f4fe8067320b",
   "metadata": {},
   "outputs": [
    {
     "name": "stdout",
     "output_type": "stream",
     "text": [
      "Residues, Poles, and Coeff:\n",
      "[ 0.38461538+0.j         -0.19230769-0.62820513j -0.19230769+0.62820513j] [0.+0.j 2.+3.j 2.-3.j] []\n"
     ]
    }
   ],
   "source": [
    "# Example 2\n",
    "b = [3, 5]\n",
    "a = [1, -4, 13, 0]\n",
    "r, p, k = residue(b, a)\n",
    "print('Residues, Poles, and Coeff:')\n",
    "print(r, p, k)"
   ]
  }
 ],
 "metadata": {
  "kernelspec": {
   "display_name": "Python 3 (ipykernel)",
   "language": "python",
   "name": "python3"
  },
  "language_info": {
   "codemirror_mode": {
    "name": "ipython",
    "version": 3
   },
   "file_extension": ".py",
   "mimetype": "text/x-python",
   "name": "python",
   "nbconvert_exporter": "python",
   "pygments_lexer": "ipython3",
   "version": "3.11.7"
  }
 },
 "nbformat": 4,
 "nbformat_minor": 5
}
