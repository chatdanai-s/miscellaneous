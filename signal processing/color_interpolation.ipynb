{
 "cells": [
  {
   "cell_type": "code",
   "execution_count": 1,
   "id": "fd63b645-e17f-4495-aecc-3692ee9bfe84",
   "metadata": {},
   "outputs": [],
   "source": [
    "import matplotlib.pyplot as plt\n",
    "import numpy as np"
   ]
  },
  {
   "cell_type": "code",
   "execution_count": 23,
   "id": "178fd53e-fe16-4e1d-b0d2-89845a4556db",
   "metadata": {},
   "outputs": [],
   "source": [
    "def bilinear_interp(x, y, f00, f10, f01, f11): # Only accepts normalized x, y\n",
    "    return (f00 * (1 - x) * (1 - y) +\n",
    "            f10 * x * (1 - y) +\n",
    "            f01 * (1 - x) * y +\n",
    "            f11 * x * y)"
   ]
  },
  {
   "cell_type": "code",
   "execution_count": 26,
   "id": "49cd2fe0-1e31-4513-8c44-45387b2b3f77",
   "metadata": {},
   "outputs": [
    {
     "data": {
      "image/png": "[encoded data removed]",
      "text/plain": [
       "<Figure size 600x600 with 1 Axes>"
      ]
     },
     "metadata": {},
     "output_type": "display_data"
    }
   ],
   "source": [
    "# Bilinear interpolation\n",
    "rgb_corners = np.array([[1,1,0], [1,0,0], [0,1,1], [0,0,1]])\n",
    "rgb00, rgb01, rgb10, rgb11 = rgb_corners\n",
    "\n",
    "n = 100\n",
    "img = np.zeros((n,n,3))\n",
    "\n",
    "for ix in range(n):\n",
    "    for iy in range(n):\n",
    "        x = ix / (n - 1) # Scale x and y from 0-(n-1) to 0-1\n",
    "        y = iy / (n - 1)\n",
    "        img[iy, ix] = bilinear_interp(x, y, rgb00, rgb10, rgb01, rgb11)\n",
    "\n",
    "s = 6\n",
    "plt.figure(figsize=(s,s))\n",
    "plt.imshow(img)\n",
    "plt.axis('off')\n",
    "plt.show()"
   ]
  },
  {
   "cell_type": "code",
   "execution_count": 32,
   "id": "119876ac-fd93-4987-a8ab-8c394800ecf6",
   "metadata": {},
   "outputs": [
    {
     "name": "stdout",
     "output_type": "stream",
     "text": [
      "(300.0, 255.0, 255.0)\n"
     ]
    }
   ],
   "source": [
    "# RGB to HSV\n",
    "def RGB2HSV(r, g, b):\n",
    "    R, G, B = r/255, g/255, b/255\n",
    "    \n",
    "    RGB = [R, G, B]\n",
    "    V = np.max(RGB)\n",
    "    C = V - np.min(RGB)\n",
    "    S = C / V\n",
    "    \n",
    "    # Compute H\n",
    "    if C == 0:\n",
    "        H = np.nan\n",
    "    elif V == R:\n",
    "        H = (G-B)/C % 6\n",
    "    elif V == G:\n",
    "        H = (B-R)/C + 2\n",
    "    elif V == B:\n",
    "        H = (R-G)/C + 4\n",
    "\n",
    "    # Rescale\n",
    "    H *= 60\n",
    "    S *= 255\n",
    "    V *= 255\n",
    "    \n",
    "    return (H, S, V)\n",
    "\n",
    "color = (255, 0, 255)\n",
    "print(RGB2HSV(*color))"
   ]
  }
 ],
 "metadata": {
  "kernelspec": {
   "display_name": "Python 3 (ipykernel)",
   "language": "python",
   "name": "python3"
  },
  "language_info": {
   "codemirror_mode": {
    "name": "ipython",
    "version": 3
   },
   "file_extension": ".py",
   "mimetype": "text/x-python",
   "name": "python",
   "nbconvert_exporter": "python",
   "pygments_lexer": "ipython3",
   "version": "3.11.7"
  }
 },
 "nbformat": 4,
 "nbformat_minor": 5
}
